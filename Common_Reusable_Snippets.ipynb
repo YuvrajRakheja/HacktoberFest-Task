{
  "nbformat": 4,
  "nbformat_minor": 0,
  "metadata": {
    "colab": {
      "provenance": [],
      "collapsed_sections": []
    },
    "kernelspec": {
      "name": "python3",
      "display_name": "Python 3"
    },
    "language_info": {
      "name": "python"
    }
  },
  "cells": [
    {
      "cell_type": "markdown",
      "source": [
        "**Confusion matrix Heatmap**"
      ],
      "metadata": {
        "id": "PO3RfV88xA2F"
      }
    },
    {
      "cell_type": "code",
      "execution_count": null,
      "metadata": {
        "id": "VGk54CoGw4wB"
      },
      "outputs": [],
      "source": [
        "\n",
        "from sklearn.metrics import confusion_matrix\n",
        "\n",
        "#Generate the confusion matrix\n",
        "cf_matrix = confusion_matrix(y_test, y_pred)\n",
        "\n",
        "print(cf_matrix)\n",
        "\n",
        "import seaborn as sns\n",
        "\n",
        "ax = sns.heatmap(cf_matrix, annot=True, cmap='Blues')\n",
        "\n",
        "ax.set_title('Seaborn Confusion Matrix with labels\\n\\n');\n",
        "ax.set_xlabel('\\nPredicted Values')\n",
        "ax.set_ylabel('Actual Values ');\n",
        "\n",
        "## Ticket labels - List must be in alphabetical order\n",
        "ax.xaxis.set_ticklabels(['False','True'])\n",
        "ax.yaxis.set_ticklabels(['False','True'])\n",
        "\n",
        "## Display the visualization of the Confusion Matrix.\n",
        "plt.show()\n"
      ]
    },
    {
      "cell_type": "markdown",
      "source": [
        "**Classification report heatmap**"
      ],
      "metadata": {
        "id": "vWpA1IbHzRGJ"
      }
    },
    {
      "cell_type": "code",
      "source": [
        "import numpy as np\n",
        "import seaborn as sns\n",
        "from sklearn.metrics import classification_report\n",
        "import pandas as pd\n",
        "#Generating data. Classes: A,B,C,D,E,F,G,H,I\n",
        "\n",
        "true = np.random.randint(0, 10, size=100)\n",
        "pred = np.random.randint(0, 10, size=100)\n",
        "labels = np.arange(10)\n",
        "target_names = list(\"ABCDEFGHI\")\n",
        "\n",
        "clf_report = classification_report(true,\n",
        "                                   pred,\n",
        "                                   labels=labels,\n",
        "                                   target_names=target_names,\n",
        "                                   output_dict=True)\n",
        "#To print its heatmap\n",
        "sns.heatmap(pd.DataFrame(clf_report).iloc[:-1, :].T, annot=True)\n"
      ],
      "metadata": {
        "id": "ownwHXc3zge7"
      },
      "execution_count": null,
      "outputs": []
    },
    {
      "cell_type": "markdown",
      "source": [
        "**Barplot from dataframe of performance**"
      ],
      "metadata": {
        "id": "n9DGgD40z4Ek"
      }
    },
    {
      "cell_type": "code",
      "source": [
        "# Plot a bar chart using the DF\n",
        "ax = df_pivot.plot(kind=\"bar\")\n",
        "# Get a Matplotlib figure from the axes object for formatting purposes\n",
        "fig = ax.get_figure()\n",
        "# Change the plot dimensions (width, height)\n",
        "fig.set_size_inches(7, 6)\n",
        "# Change the axes labels\n",
        "ax.set_xlabel(\"X\")\n",
        "ax.set_ylabel(\"Y\")"
      ],
      "metadata": {
        "id": "M-sZhAuqz4kG"
      },
      "execution_count": null,
      "outputs": []
    },
    {
      "cell_type": "markdown",
      "source": [
        "**Image Visualization**"
      ],
      "metadata": {
        "id": "jfCOclGX1Wra"
      }
    },
    {
      "cell_type": "code",
      "source": [
        "#ROC AUC graph\n",
        "fpr, tpr, thresholds = metrics.roc_curve(y, scores, pos_label=2)\n",
        "import matplotlib.pyplot as plt\n",
        "plt.plot(fpr,tpr)\n",
        "plt.show()\n"
      ],
      "metadata": {
        "id": "IlwOTHA11W41"
      },
      "execution_count": null,
      "outputs": []
    },
    {
      "cell_type": "markdown",
      "source": [
        "**Read CSV**"
      ],
      "metadata": {
        "id": "vtHcLIx52KT0"
      }
    },
    {
      "cell_type": "code",
      "source": [
        "import pandas as pd\n",
        "\n",
        "# Read CSV file into dataframe\n",
        "csv_file = 'data.csv'\n",
        "df = pd.read_csv(csv_file)\n",
        "\n"
      ],
      "metadata": {
        "id": "B0MVrUvX2KnY"
      },
      "execution_count": null,
      "outputs": []
    },
    {
      "cell_type": "markdown",
      "source": [
        "**Libraries**"
      ],
      "metadata": {
        "id": "aqlDdnNN2RQ2"
      }
    },
    {
      "cell_type": "code",
      "source": [
        "import sys, requests\n",
        "\n",
        "import numpy as np\n",
        "import pandas as pd\n",
        "\n",
        "import texthero\n",
        "import scattertext as st\n",
        "\n",
        "import spacy\n",
        "from spacy.lang.en.stop_words import STOP_WORDS\n",
        "\n",
        "from datasets import load_metric, list_metrics\n",
        "from transformers import pipeline\n",
        "from fastapi import FastAPI\n"
      ],
      "metadata": {
        "id": "nwTFNluP2Rd3"
      },
      "execution_count": null,
      "outputs": []
    }
  ]
}